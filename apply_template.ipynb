{
 "cells": [
  {
   "cell_type": "code",
   "execution_count": 3,
   "id": "e40c57ab",
   "metadata": {},
   "outputs": [
    {
     "name": "stdout",
     "output_type": "stream",
     "text": [
      "<|im_start|>system\n",
      "You are a helpful assistant.<|im_end|>\n",
      "<|im_start|>user\n",
      "<image> Generate a caption for the visual content. shortly.<|im_end|>\n",
      "<|im_start|>assistant\n",
      "<think>\n",
      "\n",
      "</think>\n",
      "\n",
      " <|im_end|>\n",
      "<|im_start|>assistant\n",
      "\n"
     ]
    }
   ],
   "source": [
    "from typing import Optional\n",
    "from typing import Union, List\n",
    "import torch\n",
    "from transformers import PreTrainedTokenizer\n",
    "from transformers import AutoProcessor, AutoTokenizer\n",
    "\n",
    "system_instruction = \"You are a helpful assistant.\"\n",
    "captioning_instruction = \"<image> Generate a caption for the visual content. shortly.\"\n",
    "caption_prompt_template = [\n",
    "{\"role\": \"system\", \"content\": system_instruction},\n",
    "{\"role\": \"user\", \"content\": captioning_instruction},\n",
    "{\"role\": \"assistant\", \"content\": \" \"},\n",
    "]\n",
    "tokenizer = AutoTokenizer.from_pretrained(\"Qwen/Qwen3-0.6B\")\n",
    "\n",
    "tokens = tokenizer.apply_chat_template(\n",
    "    caption_prompt_template,\n",
    "    tokenize = False,\n",
    "    max_length=tokenizer.model_max_length,\n",
    "    add_generation_prompt=True,\n",
    ")\n",
    "print(tokens)"
   ]
  }
 ],
 "metadata": {
  "kernelspec": {
   "display_name": "sur",
   "language": "python",
   "name": "python3"
  },
  "language_info": {
   "codemirror_mode": {
    "name": "ipython",
    "version": 3
   },
   "file_extension": ".py",
   "mimetype": "text/x-python",
   "name": "python",
   "nbconvert_exporter": "python",
   "pygments_lexer": "ipython3",
   "version": "3.12.9"
  }
 },
 "nbformat": 4,
 "nbformat_minor": 5
}
